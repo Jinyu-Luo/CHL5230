{
  "nbformat": 4,
  "nbformat_minor": 0,
  "metadata": {
    "colab": {
      "provenance": [],
      "authorship_tag": "ABX9TyOWogxjADPYUl9nd238AYbJ",
      "include_colab_link": true
    },
    "kernelspec": {
      "name": "python3",
      "display_name": "Python 3"
    },
    "language_info": {
      "name": "python"
    }
  },
  "cells": [
    {
      "cell_type": "markdown",
      "metadata": {
        "id": "view-in-github",
        "colab_type": "text"
      },
      "source": [
        "<a href=\"https://colab.research.google.com/github/Jinyu-Luo/CHL5230-Datathon1/blob/main/ObesityClassification.ipynb\" target=\"_parent\"><img src=\"https://colab.research.google.com/assets/colab-badge.svg\" alt=\"Open In Colab\"/></a>"
      ]
    },
    {
      "cell_type": "markdown",
      "source": [
        "# CHL5230 Datathon 1"
      ],
      "metadata": {
        "id": "L-tQJl3Nv_xe"
      }
    },
    {
      "cell_type": "markdown",
      "source": [
        "## Introduction"
      ],
      "metadata": {
        "id": "Me8jpktLwETX"
      }
    },
    {
      "cell_type": "code",
      "source": [
        "# Import necessary libraries\n",
        "from google.colab import files\n",
        "import pandas as pd\n",
        "import io\n",
        "import matplotlib.pyplot as plt\n",
        "# !pip install matplotlib seaborn\n",
        "import seaborn as sns\n",
        "\n",
        "from sklearn import utils\n",
        "from sklearn.model_selection import train_test_split\n",
        "from sklearn.preprocessing import StandardScaler, LabelEncoder\n",
        "from sklearn.neighbors import KNeighborsClassifier\n",
        "from sklearn.metrics import classification_report, confusion_matrix"
      ],
      "metadata": {
        "id": "Wk6Glf_2xxQe"
      },
      "execution_count": 5,
      "outputs": []
    },
    {
      "cell_type": "code",
      "execution_count": 6,
      "metadata": {
        "colab": {
          "base_uri": "https://localhost:8080/",
          "height": 77
        },
        "id": "qyoKguKwv1gm",
        "outputId": "bde9b9ec-c325-477e-adf6-445e414f4ddc"
      },
      "outputs": [
        {
          "output_type": "display_data",
          "data": {
            "text/plain": [
              "<IPython.core.display.HTML object>"
            ],
            "text/html": [
              "\n",
              "     <input type=\"file\" id=\"files-145dcb90-b3a6-40f4-bc29-0ed446c03892\" name=\"files[]\" multiple disabled\n",
              "        style=\"border:none\" />\n",
              "     <output id=\"result-145dcb90-b3a6-40f4-bc29-0ed446c03892\">\n",
              "      Upload widget is only available when the cell has been executed in the\n",
              "      current browser session. Please rerun this cell to enable.\n",
              "      </output>\n",
              "      <script>// Copyright 2017 Google LLC\n",
              "//\n",
              "// Licensed under the Apache License, Version 2.0 (the \"License\");\n",
              "// you may not use this file except in compliance with the License.\n",
              "// You may obtain a copy of the License at\n",
              "//\n",
              "//      http://www.apache.org/licenses/LICENSE-2.0\n",
              "//\n",
              "// Unless required by applicable law or agreed to in writing, software\n",
              "// distributed under the License is distributed on an \"AS IS\" BASIS,\n",
              "// WITHOUT WARRANTIES OR CONDITIONS OF ANY KIND, either express or implied.\n",
              "// See the License for the specific language governing permissions and\n",
              "// limitations under the License.\n",
              "\n",
              "/**\n",
              " * @fileoverview Helpers for google.colab Python module.\n",
              " */\n",
              "(function(scope) {\n",
              "function span(text, styleAttributes = {}) {\n",
              "  const element = document.createElement('span');\n",
              "  element.textContent = text;\n",
              "  for (const key of Object.keys(styleAttributes)) {\n",
              "    element.style[key] = styleAttributes[key];\n",
              "  }\n",
              "  return element;\n",
              "}\n",
              "\n",
              "// Max number of bytes which will be uploaded at a time.\n",
              "const MAX_PAYLOAD_SIZE = 100 * 1024;\n",
              "\n",
              "function _uploadFiles(inputId, outputId) {\n",
              "  const steps = uploadFilesStep(inputId, outputId);\n",
              "  const outputElement = document.getElementById(outputId);\n",
              "  // Cache steps on the outputElement to make it available for the next call\n",
              "  // to uploadFilesContinue from Python.\n",
              "  outputElement.steps = steps;\n",
              "\n",
              "  return _uploadFilesContinue(outputId);\n",
              "}\n",
              "\n",
              "// This is roughly an async generator (not supported in the browser yet),\n",
              "// where there are multiple asynchronous steps and the Python side is going\n",
              "// to poll for completion of each step.\n",
              "// This uses a Promise to block the python side on completion of each step,\n",
              "// then passes the result of the previous step as the input to the next step.\n",
              "function _uploadFilesContinue(outputId) {\n",
              "  const outputElement = document.getElementById(outputId);\n",
              "  const steps = outputElement.steps;\n",
              "\n",
              "  const next = steps.next(outputElement.lastPromiseValue);\n",
              "  return Promise.resolve(next.value.promise).then((value) => {\n",
              "    // Cache the last promise value to make it available to the next\n",
              "    // step of the generator.\n",
              "    outputElement.lastPromiseValue = value;\n",
              "    return next.value.response;\n",
              "  });\n",
              "}\n",
              "\n",
              "/**\n",
              " * Generator function which is called between each async step of the upload\n",
              " * process.\n",
              " * @param {string} inputId Element ID of the input file picker element.\n",
              " * @param {string} outputId Element ID of the output display.\n",
              " * @return {!Iterable<!Object>} Iterable of next steps.\n",
              " */\n",
              "function* uploadFilesStep(inputId, outputId) {\n",
              "  const inputElement = document.getElementById(inputId);\n",
              "  inputElement.disabled = false;\n",
              "\n",
              "  const outputElement = document.getElementById(outputId);\n",
              "  outputElement.innerHTML = '';\n",
              "\n",
              "  const pickedPromise = new Promise((resolve) => {\n",
              "    inputElement.addEventListener('change', (e) => {\n",
              "      resolve(e.target.files);\n",
              "    });\n",
              "  });\n",
              "\n",
              "  const cancel = document.createElement('button');\n",
              "  inputElement.parentElement.appendChild(cancel);\n",
              "  cancel.textContent = 'Cancel upload';\n",
              "  const cancelPromise = new Promise((resolve) => {\n",
              "    cancel.onclick = () => {\n",
              "      resolve(null);\n",
              "    };\n",
              "  });\n",
              "\n",
              "  // Wait for the user to pick the files.\n",
              "  const files = yield {\n",
              "    promise: Promise.race([pickedPromise, cancelPromise]),\n",
              "    response: {\n",
              "      action: 'starting',\n",
              "    }\n",
              "  };\n",
              "\n",
              "  cancel.remove();\n",
              "\n",
              "  // Disable the input element since further picks are not allowed.\n",
              "  inputElement.disabled = true;\n",
              "\n",
              "  if (!files) {\n",
              "    return {\n",
              "      response: {\n",
              "        action: 'complete',\n",
              "      }\n",
              "    };\n",
              "  }\n",
              "\n",
              "  for (const file of files) {\n",
              "    const li = document.createElement('li');\n",
              "    li.append(span(file.name, {fontWeight: 'bold'}));\n",
              "    li.append(span(\n",
              "        `(${file.type || 'n/a'}) - ${file.size} bytes, ` +\n",
              "        `last modified: ${\n",
              "            file.lastModifiedDate ? file.lastModifiedDate.toLocaleDateString() :\n",
              "                                    'n/a'} - `));\n",
              "    const percent = span('0% done');\n",
              "    li.appendChild(percent);\n",
              "\n",
              "    outputElement.appendChild(li);\n",
              "\n",
              "    const fileDataPromise = new Promise((resolve) => {\n",
              "      const reader = new FileReader();\n",
              "      reader.onload = (e) => {\n",
              "        resolve(e.target.result);\n",
              "      };\n",
              "      reader.readAsArrayBuffer(file);\n",
              "    });\n",
              "    // Wait for the data to be ready.\n",
              "    let fileData = yield {\n",
              "      promise: fileDataPromise,\n",
              "      response: {\n",
              "        action: 'continue',\n",
              "      }\n",
              "    };\n",
              "\n",
              "    // Use a chunked sending to avoid message size limits. See b/62115660.\n",
              "    let position = 0;\n",
              "    do {\n",
              "      const length = Math.min(fileData.byteLength - position, MAX_PAYLOAD_SIZE);\n",
              "      const chunk = new Uint8Array(fileData, position, length);\n",
              "      position += length;\n",
              "\n",
              "      const base64 = btoa(String.fromCharCode.apply(null, chunk));\n",
              "      yield {\n",
              "        response: {\n",
              "          action: 'append',\n",
              "          file: file.name,\n",
              "          data: base64,\n",
              "        },\n",
              "      };\n",
              "\n",
              "      let percentDone = fileData.byteLength === 0 ?\n",
              "          100 :\n",
              "          Math.round((position / fileData.byteLength) * 100);\n",
              "      percent.textContent = `${percentDone}% done`;\n",
              "\n",
              "    } while (position < fileData.byteLength);\n",
              "  }\n",
              "\n",
              "  // All done.\n",
              "  yield {\n",
              "    response: {\n",
              "      action: 'complete',\n",
              "    }\n",
              "  };\n",
              "}\n",
              "\n",
              "scope.google = scope.google || {};\n",
              "scope.google.colab = scope.google.colab || {};\n",
              "scope.google.colab._files = {\n",
              "  _uploadFiles,\n",
              "  _uploadFilesContinue,\n",
              "};\n",
              "})(self);\n",
              "</script> "
            ]
          },
          "metadata": {}
        },
        {
          "output_type": "stream",
          "name": "stdout",
          "text": [
            "Saving CHL5230-F23-Datathon #1-Dataset1.csv to CHL5230-F23-Datathon #1-Dataset1.csv\n"
          ]
        }
      ],
      "source": [
        "# upload the data\n",
        "from google.colab import files\n",
        "uploaded = files.upload()"
      ]
    },
    {
      "cell_type": "code",
      "source": [
        "df = pd.read_csv(io.BytesIO(uploaded['CHL5230-F23-Datathon #1-Dataset1.csv']))\n",
        "df.head()"
      ],
      "metadata": {
        "colab": {
          "base_uri": "https://localhost:8080/",
          "height": 226
        },
        "id": "nJ3zlo2pzKHY",
        "outputId": "3009ed3c-f0f2-48e5-cf80-7dbe9396e65d"
      },
      "execution_count": 93,
      "outputs": [
        {
          "output_type": "execute_result",
          "data": {
            "text/plain": [
              "   Age  Gender  Calorie_Intake  Sugar_Intake  Physical_Activity  \\\n",
              "0   56  Female            3091            90                160   \n",
              "1   69  Female            2090           106                 27   \n",
              "2   46    Male            2938            11                 45   \n",
              "3   32  Female            3022            48                112   \n",
              "4   60  Female            2350            83                115   \n",
              "\n",
              "   Fast_Food_Frequency  Screen_Time    Height     Weight        BMI  \n",
              "0                    4            1  1.569070  81.199394  32.981343  \n",
              "1                    0            9  1.629449  74.273566  27.973877  \n",
              "2                    2            3  1.637726  71.453466  26.640417  \n",
              "3                    1            8  1.514198  98.163045  42.813720  \n",
              "4                    0            7  1.410559  57.323914  28.810685  "
            ],
            "text/html": [
              "\n",
              "  <div id=\"df-f5e1bc17-827d-48b8-9068-bf8fdac7bbc8\" class=\"colab-df-container\">\n",
              "    <div>\n",
              "<style scoped>\n",
              "    .dataframe tbody tr th:only-of-type {\n",
              "        vertical-align: middle;\n",
              "    }\n",
              "\n",
              "    .dataframe tbody tr th {\n",
              "        vertical-align: top;\n",
              "    }\n",
              "\n",
              "    .dataframe thead th {\n",
              "        text-align: right;\n",
              "    }\n",
              "</style>\n",
              "<table border=\"1\" class=\"dataframe\">\n",
              "  <thead>\n",
              "    <tr style=\"text-align: right;\">\n",
              "      <th></th>\n",
              "      <th>Age</th>\n",
              "      <th>Gender</th>\n",
              "      <th>Calorie_Intake</th>\n",
              "      <th>Sugar_Intake</th>\n",
              "      <th>Physical_Activity</th>\n",
              "      <th>Fast_Food_Frequency</th>\n",
              "      <th>Screen_Time</th>\n",
              "      <th>Height</th>\n",
              "      <th>Weight</th>\n",
              "      <th>BMI</th>\n",
              "    </tr>\n",
              "  </thead>\n",
              "  <tbody>\n",
              "    <tr>\n",
              "      <th>0</th>\n",
              "      <td>56</td>\n",
              "      <td>Female</td>\n",
              "      <td>3091</td>\n",
              "      <td>90</td>\n",
              "      <td>160</td>\n",
              "      <td>4</td>\n",
              "      <td>1</td>\n",
              "      <td>1.569070</td>\n",
              "      <td>81.199394</td>\n",
              "      <td>32.981343</td>\n",
              "    </tr>\n",
              "    <tr>\n",
              "      <th>1</th>\n",
              "      <td>69</td>\n",
              "      <td>Female</td>\n",
              "      <td>2090</td>\n",
              "      <td>106</td>\n",
              "      <td>27</td>\n",
              "      <td>0</td>\n",
              "      <td>9</td>\n",
              "      <td>1.629449</td>\n",
              "      <td>74.273566</td>\n",
              "      <td>27.973877</td>\n",
              "    </tr>\n",
              "    <tr>\n",
              "      <th>2</th>\n",
              "      <td>46</td>\n",
              "      <td>Male</td>\n",
              "      <td>2938</td>\n",
              "      <td>11</td>\n",
              "      <td>45</td>\n",
              "      <td>2</td>\n",
              "      <td>3</td>\n",
              "      <td>1.637726</td>\n",
              "      <td>71.453466</td>\n",
              "      <td>26.640417</td>\n",
              "    </tr>\n",
              "    <tr>\n",
              "      <th>3</th>\n",
              "      <td>32</td>\n",
              "      <td>Female</td>\n",
              "      <td>3022</td>\n",
              "      <td>48</td>\n",
              "      <td>112</td>\n",
              "      <td>1</td>\n",
              "      <td>8</td>\n",
              "      <td>1.514198</td>\n",
              "      <td>98.163045</td>\n",
              "      <td>42.813720</td>\n",
              "    </tr>\n",
              "    <tr>\n",
              "      <th>4</th>\n",
              "      <td>60</td>\n",
              "      <td>Female</td>\n",
              "      <td>2350</td>\n",
              "      <td>83</td>\n",
              "      <td>115</td>\n",
              "      <td>0</td>\n",
              "      <td>7</td>\n",
              "      <td>1.410559</td>\n",
              "      <td>57.323914</td>\n",
              "      <td>28.810685</td>\n",
              "    </tr>\n",
              "  </tbody>\n",
              "</table>\n",
              "</div>\n",
              "    <div class=\"colab-df-buttons\">\n",
              "\n",
              "  <div class=\"colab-df-container\">\n",
              "    <button class=\"colab-df-convert\" onclick=\"convertToInteractive('df-f5e1bc17-827d-48b8-9068-bf8fdac7bbc8')\"\n",
              "            title=\"Convert this dataframe to an interactive table.\"\n",
              "            style=\"display:none;\">\n",
              "\n",
              "  <svg xmlns=\"http://www.w3.org/2000/svg\" height=\"24px\" viewBox=\"0 -960 960 960\">\n",
              "    <path d=\"M120-120v-720h720v720H120Zm60-500h600v-160H180v160Zm220 220h160v-160H400v160Zm0 220h160v-160H400v160ZM180-400h160v-160H180v160Zm440 0h160v-160H620v160ZM180-180h160v-160H180v160Zm440 0h160v-160H620v160Z\"/>\n",
              "  </svg>\n",
              "    </button>\n",
              "\n",
              "  <style>\n",
              "    .colab-df-container {\n",
              "      display:flex;\n",
              "      gap: 12px;\n",
              "    }\n",
              "\n",
              "    .colab-df-convert {\n",
              "      background-color: #E8F0FE;\n",
              "      border: none;\n",
              "      border-radius: 50%;\n",
              "      cursor: pointer;\n",
              "      display: none;\n",
              "      fill: #1967D2;\n",
              "      height: 32px;\n",
              "      padding: 0 0 0 0;\n",
              "      width: 32px;\n",
              "    }\n",
              "\n",
              "    .colab-df-convert:hover {\n",
              "      background-color: #E2EBFA;\n",
              "      box-shadow: 0px 1px 2px rgba(60, 64, 67, 0.3), 0px 1px 3px 1px rgba(60, 64, 67, 0.15);\n",
              "      fill: #174EA6;\n",
              "    }\n",
              "\n",
              "    .colab-df-buttons div {\n",
              "      margin-bottom: 4px;\n",
              "    }\n",
              "\n",
              "    [theme=dark] .colab-df-convert {\n",
              "      background-color: #3B4455;\n",
              "      fill: #D2E3FC;\n",
              "    }\n",
              "\n",
              "    [theme=dark] .colab-df-convert:hover {\n",
              "      background-color: #434B5C;\n",
              "      box-shadow: 0px 1px 3px 1px rgba(0, 0, 0, 0.15);\n",
              "      filter: drop-shadow(0px 1px 2px rgba(0, 0, 0, 0.3));\n",
              "      fill: #FFFFFF;\n",
              "    }\n",
              "  </style>\n",
              "\n",
              "    <script>\n",
              "      const buttonEl =\n",
              "        document.querySelector('#df-f5e1bc17-827d-48b8-9068-bf8fdac7bbc8 button.colab-df-convert');\n",
              "      buttonEl.style.display =\n",
              "        google.colab.kernel.accessAllowed ? 'block' : 'none';\n",
              "\n",
              "      async function convertToInteractive(key) {\n",
              "        const element = document.querySelector('#df-f5e1bc17-827d-48b8-9068-bf8fdac7bbc8');\n",
              "        const dataTable =\n",
              "          await google.colab.kernel.invokeFunction('convertToInteractive',\n",
              "                                                    [key], {});\n",
              "        if (!dataTable) return;\n",
              "\n",
              "        const docLinkHtml = 'Like what you see? Visit the ' +\n",
              "          '<a target=\"_blank\" href=https://colab.research.google.com/notebooks/data_table.ipynb>data table notebook</a>'\n",
              "          + ' to learn more about interactive tables.';\n",
              "        element.innerHTML = '';\n",
              "        dataTable['output_type'] = 'display_data';\n",
              "        await google.colab.output.renderOutput(dataTable, element);\n",
              "        const docLink = document.createElement('div');\n",
              "        docLink.innerHTML = docLinkHtml;\n",
              "        element.appendChild(docLink);\n",
              "      }\n",
              "    </script>\n",
              "  </div>\n",
              "\n",
              "\n",
              "<div id=\"df-cf176cbd-1b5c-4999-aa67-849c2ee23669\">\n",
              "  <button class=\"colab-df-quickchart\" onclick=\"quickchart('df-cf176cbd-1b5c-4999-aa67-849c2ee23669')\"\n",
              "            title=\"Suggest charts.\"\n",
              "            style=\"display:none;\">\n",
              "\n",
              "<svg xmlns=\"http://www.w3.org/2000/svg\" height=\"24px\"viewBox=\"0 0 24 24\"\n",
              "     width=\"24px\">\n",
              "    <g>\n",
              "        <path d=\"M19 3H5c-1.1 0-2 .9-2 2v14c0 1.1.9 2 2 2h14c1.1 0 2-.9 2-2V5c0-1.1-.9-2-2-2zM9 17H7v-7h2v7zm4 0h-2V7h2v10zm4 0h-2v-4h2v4z\"/>\n",
              "    </g>\n",
              "</svg>\n",
              "  </button>\n",
              "\n",
              "<style>\n",
              "  .colab-df-quickchart {\n",
              "      --bg-color: #E8F0FE;\n",
              "      --fill-color: #1967D2;\n",
              "      --hover-bg-color: #E2EBFA;\n",
              "      --hover-fill-color: #174EA6;\n",
              "      --disabled-fill-color: #AAA;\n",
              "      --disabled-bg-color: #DDD;\n",
              "  }\n",
              "\n",
              "  [theme=dark] .colab-df-quickchart {\n",
              "      --bg-color: #3B4455;\n",
              "      --fill-color: #D2E3FC;\n",
              "      --hover-bg-color: #434B5C;\n",
              "      --hover-fill-color: #FFFFFF;\n",
              "      --disabled-bg-color: #3B4455;\n",
              "      --disabled-fill-color: #666;\n",
              "  }\n",
              "\n",
              "  .colab-df-quickchart {\n",
              "    background-color: var(--bg-color);\n",
              "    border: none;\n",
              "    border-radius: 50%;\n",
              "    cursor: pointer;\n",
              "    display: none;\n",
              "    fill: var(--fill-color);\n",
              "    height: 32px;\n",
              "    padding: 0;\n",
              "    width: 32px;\n",
              "  }\n",
              "\n",
              "  .colab-df-quickchart:hover {\n",
              "    background-color: var(--hover-bg-color);\n",
              "    box-shadow: 0 1px 2px rgba(60, 64, 67, 0.3), 0 1px 3px 1px rgba(60, 64, 67, 0.15);\n",
              "    fill: var(--button-hover-fill-color);\n",
              "  }\n",
              "\n",
              "  .colab-df-quickchart-complete:disabled,\n",
              "  .colab-df-quickchart-complete:disabled:hover {\n",
              "    background-color: var(--disabled-bg-color);\n",
              "    fill: var(--disabled-fill-color);\n",
              "    box-shadow: none;\n",
              "  }\n",
              "\n",
              "  .colab-df-spinner {\n",
              "    border: 2px solid var(--fill-color);\n",
              "    border-color: transparent;\n",
              "    border-bottom-color: var(--fill-color);\n",
              "    animation:\n",
              "      spin 1s steps(1) infinite;\n",
              "  }\n",
              "\n",
              "  @keyframes spin {\n",
              "    0% {\n",
              "      border-color: transparent;\n",
              "      border-bottom-color: var(--fill-color);\n",
              "      border-left-color: var(--fill-color);\n",
              "    }\n",
              "    20% {\n",
              "      border-color: transparent;\n",
              "      border-left-color: var(--fill-color);\n",
              "      border-top-color: var(--fill-color);\n",
              "    }\n",
              "    30% {\n",
              "      border-color: transparent;\n",
              "      border-left-color: var(--fill-color);\n",
              "      border-top-color: var(--fill-color);\n",
              "      border-right-color: var(--fill-color);\n",
              "    }\n",
              "    40% {\n",
              "      border-color: transparent;\n",
              "      border-right-color: var(--fill-color);\n",
              "      border-top-color: var(--fill-color);\n",
              "    }\n",
              "    60% {\n",
              "      border-color: transparent;\n",
              "      border-right-color: var(--fill-color);\n",
              "    }\n",
              "    80% {\n",
              "      border-color: transparent;\n",
              "      border-right-color: var(--fill-color);\n",
              "      border-bottom-color: var(--fill-color);\n",
              "    }\n",
              "    90% {\n",
              "      border-color: transparent;\n",
              "      border-bottom-color: var(--fill-color);\n",
              "    }\n",
              "  }\n",
              "</style>\n",
              "\n",
              "  <script>\n",
              "    async function quickchart(key) {\n",
              "      const quickchartButtonEl =\n",
              "        document.querySelector('#' + key + ' button');\n",
              "      quickchartButtonEl.disabled = true;  // To prevent multiple clicks.\n",
              "      quickchartButtonEl.classList.add('colab-df-spinner');\n",
              "      try {\n",
              "        const charts = await google.colab.kernel.invokeFunction(\n",
              "            'suggestCharts', [key], {});\n",
              "      } catch (error) {\n",
              "        console.error('Error during call to suggestCharts:', error);\n",
              "      }\n",
              "      quickchartButtonEl.classList.remove('colab-df-spinner');\n",
              "      quickchartButtonEl.classList.add('colab-df-quickchart-complete');\n",
              "    }\n",
              "    (() => {\n",
              "      let quickchartButtonEl =\n",
              "        document.querySelector('#df-cf176cbd-1b5c-4999-aa67-849c2ee23669 button');\n",
              "      quickchartButtonEl.style.display =\n",
              "        google.colab.kernel.accessAllowed ? 'block' : 'none';\n",
              "    })();\n",
              "  </script>\n",
              "</div>\n",
              "    </div>\n",
              "  </div>\n"
            ]
          },
          "metadata": {},
          "execution_count": 93
        }
      ]
    },
    {
      "cell_type": "markdown",
      "source": [
        "The dataset consists of 23,535 observations with 10 pieces of information for each observation."
      ],
      "metadata": {
        "id": "nqjUoAwKzrt8"
      }
    },
    {
      "cell_type": "code",
      "source": [
        "# Get the shape of the dataframe\n",
        "print(df.shape)"
      ],
      "metadata": {
        "colab": {
          "base_uri": "https://localhost:8080/"
        },
        "id": "C-LKufdAziKH",
        "outputId": "a85b6a92-4cc5-4c32-d7da-0052bd315cf8"
      },
      "execution_count": null,
      "outputs": [
        {
          "output_type": "stream",
          "name": "stdout",
          "text": [
            "(23535, 10)\n"
          ]
        }
      ]
    },
    {
      "cell_type": "code",
      "source": [
        "# List the columns of the dataframe\n",
        "print(df.columns)"
      ],
      "metadata": {
        "colab": {
          "base_uri": "https://localhost:8080/"
        },
        "id": "XVwGLLbDz7Mf",
        "outputId": "24c5499d-1653-4d1d-a38b-9e62c64ea323"
      },
      "execution_count": null,
      "outputs": [
        {
          "output_type": "stream",
          "name": "stdout",
          "text": [
            "Index(['Age', 'Gender', 'Calorie_Intake', 'Sugar_Intake', 'Physical_Activity',\n",
            "       'Fast_Food_Frequency', 'Screen_Time', 'Height', 'Weight', 'BMI'],\n",
            "      dtype='object')\n"
          ]
        }
      ]
    },
    {
      "cell_type": "markdown",
      "source": [
        "#### Descriptive Statistics\n",
        "Gain some insights into the statistical properties of the dataset."
      ],
      "metadata": {
        "id": "L6rRqjAV0YY9"
      }
    },
    {
      "cell_type": "code",
      "source": [
        "# Display summary statistics\n",
        "print(df.describe())"
      ],
      "metadata": {
        "colab": {
          "base_uri": "https://localhost:8080/"
        },
        "id": "6x9vGk7C0PZp",
        "outputId": "90332374-8042-4089-97d5-c8660173d28a"
      },
      "execution_count": null,
      "outputs": [
        {
          "output_type": "stream",
          "name": "stdout",
          "text": [
            "                Age        Gender  Calorie_Intake  Sugar_Intake  \\\n",
            "count  23535.000000  23535.000000    23535.000000  23535.000000   \n",
            "mean      48.532993      0.367070     2495.845634     64.824559   \n",
            "std       17.872736      0.482016      577.798752     32.004657   \n",
            "min       18.000000      0.000000     1500.000000     10.000000   \n",
            "25%       33.000000      0.000000     1991.000000     37.000000   \n",
            "50%       48.000000      0.000000     2495.000000     65.000000   \n",
            "75%       64.000000      1.000000     2994.000000     93.000000   \n",
            "max       79.000000      1.000000     3499.000000    119.000000   \n",
            "\n",
            "       Physical_Activity  Fast_Food_Frequency   Screen_Time        Height  \\\n",
            "count       23535.000000         23535.000000  23535.000000  23535.000000   \n",
            "mean           89.496707             2.018441      5.486127      1.650279   \n",
            "std            52.120810             1.414634      3.454036      0.119714   \n",
            "min             0.000000             0.000000      0.000000      1.196086   \n",
            "25%            45.000000             1.000000      2.000000      1.569815   \n",
            "50%            90.000000             2.000000      6.000000      1.650122   \n",
            "75%           135.000000             3.000000      8.000000      1.731470   \n",
            "max           179.000000             4.000000     11.000000      2.154243   \n",
            "\n",
            "             Weight           BMI  \n",
            "count  23535.000000  23535.000000  \n",
            "mean      70.019142     26.127641  \n",
            "std       15.016866      6.875510  \n",
            "min       10.010016      3.442184  \n",
            "25%       59.859242     21.337576  \n",
            "50%       70.022501     25.661507  \n",
            "75%       80.038009     30.329032  \n",
            "max      126.493504     70.475419  \n"
          ]
        }
      ]
    },
    {
      "cell_type": "markdown",
      "source": [
        "#### Check Missing Values\n",
        "As displayed below, there is no missing value in our dataset."
      ],
      "metadata": {
        "id": "PUECHgn40s1C"
      }
    },
    {
      "cell_type": "code",
      "source": [
        "print(df.isnull().sum())"
      ],
      "metadata": {
        "colab": {
          "base_uri": "https://localhost:8080/"
        },
        "id": "P5s542Lr0wok",
        "outputId": "af43bdb3-daf4-4fe8-c3e9-f0aa790d355a"
      },
      "execution_count": null,
      "outputs": [
        {
          "output_type": "stream",
          "name": "stdout",
          "text": [
            "Age                    0\n",
            "Gender                 0\n",
            "Calorie_Intake         0\n",
            "Sugar_Intake           0\n",
            "Physical_Activity      0\n",
            "Fast_Food_Frequency    0\n",
            "Screen_Time            0\n",
            "Height                 0\n",
            "Weight                 0\n",
            "BMI                    0\n",
            "dtype: int64\n"
          ]
        }
      ]
    },
    {
      "cell_type": "markdown",
      "source": [
        "Below, by checking the uniqueness of entries, we found that data in `Fast_Food_Frequency` and `Screen_Time` are discrete."
      ],
      "metadata": {
        "id": "cwY9pYBsmhfJ"
      }
    },
    {
      "cell_type": "code",
      "source": [
        "import numpy as np\n",
        "# Check categories in fast food frequency\n",
        "sorted_freq = np.sort(df['Fast_Food_Frequency'].unique())\n",
        "print(\"\\nUnique values from the Fast_Food_Freqency colum:\\n\", sorted_freq)"
      ],
      "metadata": {
        "colab": {
          "base_uri": "https://localhost:8080/"
        },
        "id": "oJvVFF6umKmz",
        "outputId": "15970595-8554-42b3-eba6-897368442941"
      },
      "execution_count": null,
      "outputs": [
        {
          "output_type": "stream",
          "name": "stdout",
          "text": [
            "\n",
            "Unique values from the Fast_Food_Freqency colum:\n",
            " [0 1 2 3 4]\n"
          ]
        }
      ]
    },
    {
      "cell_type": "code",
      "source": [
        "# Check categories in screen time\n",
        "sorted_screen_time = np.sort(df['Screen_Time'].unique())\n",
        "print(\"\\nUnique values from the Screen_Time colum:\\n\", sorted_screen_time)"
      ],
      "metadata": {
        "colab": {
          "base_uri": "https://localhost:8080/"
        },
        "id": "CzkTlFpvnC90",
        "outputId": "fc1cc832-9a2d-44a6-a8f1-1198abe6b7af"
      },
      "execution_count": null,
      "outputs": [
        {
          "output_type": "stream",
          "name": "stdout",
          "text": [
            "\n",
            "Unique values from the Screen_Time colum:\n",
            " [ 0  1  2  3  4  5  6  7  8  9 10 11]\n"
          ]
        }
      ]
    },
    {
      "cell_type": "markdown",
      "source": [
        "### Preprocess the Data\n",
        "\n",
        "First, encode the categorical data. As observed above, \"Gender\" is the only categorical column, which comprises only two categories: Male and Female. Thus, we will encode the \"Gender\" column by assigning 1 to Male and 0 to Female."
      ],
      "metadata": {
        "id": "CsHw_NBCy1jM"
      }
    },
    {
      "cell_type": "code",
      "source": [
        "# Check categories in Gender column\n",
        "print(\"\\nUnique values from the Gender colum:\\n\", df['Gender'].unique())"
      ],
      "metadata": {
        "colab": {
          "base_uri": "https://localhost:8080/"
        },
        "id": "RZTeV1mjyz6e",
        "outputId": "931c5bbd-cdee-4dbd-a126-02529f03ed7f"
      },
      "execution_count": null,
      "outputs": [
        {
          "output_type": "stream",
          "name": "stdout",
          "text": [
            "\n",
            "Unique values from the Gender colum:\n",
            " ['Female' 'Male']\n"
          ]
        }
      ]
    },
    {
      "cell_type": "code",
      "source": [
        "# Preprocess the data\n",
        "# Encoding 'Gender' column\n",
        "le = LabelEncoder()\n",
        "df['Gender'] = le.fit_transform(df['Gender'])  # Male: 1, Female: 0"
      ],
      "metadata": {
        "id": "R5XS-2dC2re3"
      },
      "execution_count": 94,
      "outputs": []
    },
    {
      "cell_type": "code",
      "source": [
        "# Add 'weight_status' column based on BMI\n",
        "def health_status_classifier(bmi):\n",
        "  if bmi < 18.5:\n",
        "    return 'Underweight'\n",
        "  elif 18.5 <= bmi < 25:\n",
        "    return 'Normal weight'\n",
        "  elif 25 <= bmi < 30:\n",
        "    return 'Overweight'\n",
        "  else:\n",
        "    return 'Obesity'\n",
        "\n",
        "df['status'] = df['BMI'].apply(health_status_classifier)"
      ],
      "metadata": {
        "id": "NBFiRFq_hBac"
      },
      "execution_count": 75,
      "outputs": []
    },
    {
      "cell_type": "markdown",
      "source": [
        "Check the distribution of data according to BMI categories."
      ],
      "metadata": {
        "id": "2iHmzeJv1jc8"
      }
    },
    {
      "cell_type": "code",
      "source": [
        "# Plot for the distribution of BMI Categories\n",
        "plt.figure(figsize=(9,3))\n",
        "sns.histplot(data = df, x = \"status\", hue = \"Gender\",\n",
        "             multiple = \"dodge\", shrink = .8)\n",
        "plt.title('Distribution of BMI Categories')\n",
        "plt.xlabel('BMI Categories')\n",
        "plt.ylabel(\"Count\")\n",
        "plt.show()"
      ],
      "metadata": {
        "colab": {
          "base_uri": "https://localhost:8080/",
          "height": 333
        },
        "id": "QKCF9OYi1nlu",
        "outputId": "a47f60ae-2e76-49fa-8637-d3a38ee1e6c1"
      },
      "execution_count": 50,
      "outputs": [
        {
          "output_type": "display_data",
          "data": {
            "text/plain": [
              "<Figure size 900x300 with 1 Axes>"
            ],
            "image/png": "[encoded data removed]"
          },
          "metadata": {}
        }
      ]
    },
    {
      "cell_type": "markdown",
      "source": [
        "Note that the proportion of underweight people are much less than proportions of the other categories. If we just perfrom a random train-test split, it might result in very different data distributions in the training and test sets. Therefore, we will address this issue by stratifying the BMI categories during the data spliting step."
      ],
      "metadata": {
        "id": "8RrnhzN817CT"
      }
    },
    {
      "cell_type": "markdown",
      "source": [
        "Since BMI is calculated based on height and weight and we have categorized people into different BMI categories, we will remove height, weight, and BMI from the dataframe for the following analysis."
      ],
      "metadata": {
        "id": "YP4uQoKMrKtt"
      }
    },
    {
      "cell_type": "markdown",
      "source": [
        "## Data Engineering Process\n",
        "\n",
        "### Data Preparation"
      ],
      "metadata": {
        "id": "sYv3vv1JwJ2e"
      }
    },
    {
      "cell_type": "code",
      "source": [
        "from imblearn.over_sampling import SMOTE"
      ],
      "metadata": {
        "id": "KSh2ipGNejOV"
      },
      "execution_count": 92,
      "outputs": []
    },
    {
      "cell_type": "code",
      "source": [
        "# Split the dataset by gender\n",
        "male_data = df[df['Gender'] == 1]\n",
        "female_data = df[df['Gender'] == 0]\n",
        "\n",
        "def prepare_data(data):\n",
        "  # split the data into features and label\n",
        "  X = data[['Age', 'Calorie_Intake', 'Sugar_Intake', 'Physical_Activity',\n",
        "        'Fast_Food_Frequency', 'Screen_Time']]\n",
        "  y = data['status']\n",
        "\n",
        "  # Split data into training and testing sets\n",
        "  X_train, X_test, y_train, y_test = train_test_split(X, y, test_size = 0.2,\n",
        "                                                    stratify = y,\n",
        "                                                    random_state=42)\n",
        "\n",
        "  # Apply SMOTE on the training data set only\n",
        "  smote = SMOTE(random_state = 42)\n",
        "  X_train_smt, y_train_smt = smote.fit_resample(X_train, y_train)\n",
        "\n",
        "  # Scale the features\n",
        "  scaler = StandardScaler()\n",
        "  X_train_scaled = scaler.fit_transform(X_train_smt)\n",
        "  X_test_scaled = scaler.transform(X_test)\n",
        "\n",
        "  return X_train_scaled, X_test_scaled, y_train_smt, y_test\n",
        "\n",
        "# Prepare data for males and females\n",
        "X_train_male, X_test_male, y_train_male, y_test_male = prepare_data(male_data)\n",
        "X_train_female, X_test_female, y_train_female, y_test_female = prepare_data(female_data)"
      ],
      "metadata": {
        "id": "ocD5oGAR01o6"
      },
      "execution_count": 77,
      "outputs": []
    },
    {
      "cell_type": "markdown",
      "source": [
        "### Train the KNN Classifier"
      ],
      "metadata": {
        "id": "Jl5cmr84P87K"
      }
    },
    {
      "cell_type": "code",
      "source": [
        "# Initialize the KNN classifier\n",
        "knn = KNeighborsClassifier(n_neighbors=100)  # Setting K to 5 as an example\n",
        "\n",
        "# Hyperparameters to tune\n",
        "param_grid = {\n",
        "    'n_neighbors': [5, 10, 20, 30, 40, 50, 75, 100], # number of neighbors\n",
        "    'weights': ['uniform', 'distance'], # weight function used for prediction\n",
        "    'metric': ['euclidean', 'manhattan', 'minkowski'], # distance matric\n",
        "    'p': [1, 2] # Power parameter for the Minkowski metric. 1 is manhattan_distance and 2 is euclidean_distance.\n",
        "}\n",
        "\n",
        "# Use GridSearchCV to find the best hyperparameters\n",
        "knn_grid_search = GridSearchCV(estimator = knn,\n",
        "                               param_grid = param_grid,\n",
        "                               cv = 3, n_jobs = -1, verbose = 2,\n",
        "                               scoring = 'accuracy')\n",
        "\n",
        "# Train and predict the male data\n",
        "knn_grid_search.fit(X_train_male, y_train_male)\n",
        "print(\"Best Parameters: \", knn_grid_search.best_params_)\n",
        "y_pred_male = knn_grid_search.best_estimator_.predict(X_test_male)\n",
        "print(\"Classification Report for Males:\")\n",
        "print(classification_report(y_test_male, y_pred_male))\n",
        "\n",
        "# Train and predict the female data\n",
        "knn_grid_search.fit(X_train_female, y_train_female)\n",
        "print(\"Best Parameters: \", knn_grid_search.best_params_)\n",
        "y_pred_female = knn_grid_search.best_estimator_.predict(X_test_female)\n",
        "print(\"Classification Report for Males:\")\n",
        "print(classification_report(y_test_female, y_pred_female))\n"
      ],
      "metadata": {
        "id": "DFbiCR6IwOMR",
        "colab": {
          "base_uri": "https://localhost:8080/"
        },
        "outputId": "44368ee4-6689-4aeb-d6c8-8059fa7414f9"
      },
      "execution_count": 89,
      "outputs": [
        {
          "output_type": "stream",
          "name": "stdout",
          "text": [
            "Fitting 3 folds for each of 96 candidates, totalling 288 fits\n",
            "Best Parameters:  {'metric': 'manhattan', 'n_neighbors': 5, 'p': 1, 'weights': 'distance'}\n",
            "Classification Report for Males:\n",
            "               precision    recall  f1-score   support\n",
            "\n",
            "Normal weight       0.37      0.28      0.32       587\n",
            "      Obesity       0.28      0.28      0.28       462\n",
            "   Overweight       0.31      0.27      0.29       479\n",
            "  Underweight       0.11      0.21      0.14       200\n",
            "\n",
            "     accuracy                           0.27      1728\n",
            "    macro avg       0.27      0.26      0.26      1728\n",
            " weighted avg       0.30      0.27      0.28      1728\n",
            "\n",
            "Fitting 3 folds for each of 96 candidates, totalling 288 fits\n",
            "Best Parameters:  {'metric': 'manhattan', 'n_neighbors': 5, 'p': 1, 'weights': 'distance'}\n",
            "Classification Report for Males:\n",
            "               precision    recall  f1-score   support\n",
            "\n",
            "Normal weight       0.35      0.26      0.30       988\n",
            "      Obesity       0.25      0.24      0.24       814\n",
            "   Overweight       0.26      0.24      0.25       841\n",
            "  Underweight       0.11      0.23      0.15       337\n",
            "\n",
            "     accuracy                           0.25      2980\n",
            "    macro avg       0.24      0.24      0.24      2980\n",
            " weighted avg       0.27      0.25      0.25      2980\n",
            "\n"
          ]
        }
      ]
    },
    {
      "cell_type": "markdown",
      "source": [
        "The accuracy is relative low for both genders, and the performance for each class is not very high. This result indicate that the features are not providing a clear boundary for KNN."
      ],
      "metadata": {
        "id": "tJGfTewQQCHU"
      }
    },
    {
      "cell_type": "markdown",
      "source": [
        "### Train Random Forest Classifier"
      ],
      "metadata": {
        "id": "QtrycyrsSxLd"
      }
    },
    {
      "cell_type": "code",
      "source": [
        "from sklearn.ensemble import RandomForestClassifier\n",
        "from sklearn.model_selection import GridSearchCV\n",
        "from sklearn.metrics import classification_report"
      ],
      "metadata": {
        "id": "YYBSPADGSw01"
      },
      "execution_count": 65,
      "outputs": []
    },
    {
      "cell_type": "code",
      "source": [
        "# Initialize a Random Forest Classifier\n",
        "rf = RandomForestClassifier(random_state = 42)\n",
        "\n",
        "# Hyperparameters to tune\n",
        "param_grid = {\n",
        "    'n_estimators': [50, 100, 200], # number of trees\n",
        "    'max_depth': [None, 10, 20, 30], # maximum depth of the tree\n",
        "    'min_samples_split': [2, 5, 10], # minimum number of samples required to split an internal node\n",
        "    'min_samples_leaf': [1, 2, 4] # minimum number of samples required to be at a leaf node\n",
        "}\n",
        "\n",
        "# Use GridSearchCV to find the best hyperparameters\n",
        "grid_search = GridSearchCV(estimator = rf, param_grid = param_grid,\n",
        "                           cv = 3, n_jobs = -1, verbose = 2,\n",
        "                           scoring = 'accuracy')\n",
        "\n",
        "# Fit the model\n",
        "grid_search.fit(X_train_male, y_train_male) # for males\n",
        "print(\"Best Parameters for males: \", grid_search.best_params_)\n",
        "\n",
        "grid_search.fit(X_train_female, y_train_female) # for females\n",
        "print(\"Best Parameters for females: \", grid_search.best_params_)\n",
        "\n",
        "# Predict on the test data\n",
        "y_pred_males = grid_search.best_estimator_.predict(X_test_male)\n",
        "print(classification_report(y_test_male, y_pred_males))\n",
        "y_pred_females = grid_search.best_estimator_.predict(X_test_female)\n",
        "print(classification_report(y_test_female, y_pred_females))"
      ],
      "metadata": {
        "colab": {
          "base_uri": "https://localhost:8080/"
        },
        "id": "rIPa-KrHTEiS",
        "outputId": "da0774a1-1d93-4d90-cbc8-fc141e599a18"
      },
      "execution_count": 68,
      "outputs": [
        {
          "output_type": "stream",
          "name": "stdout",
          "text": [
            "Fitting 3 folds for each of 108 candidates, totalling 324 fits\n",
            "Best Parameters for males:  {'max_depth': 30, 'min_samples_leaf': 1, 'min_samples_split': 2, 'n_estimators': 100}\n",
            "Fitting 3 folds for each of 108 candidates, totalling 324 fits\n",
            "Best Parameters for females:  {'max_depth': None, 'min_samples_leaf': 1, 'min_samples_split': 2, 'n_estimators': 200}\n",
            "               precision    recall  f1-score   support\n",
            "\n",
            "Normal weight       0.32      0.31      0.31       589\n",
            "      Obesity       0.26      0.26      0.26       465\n",
            "   Overweight       0.27      0.24      0.26       463\n",
            "  Underweight       0.11      0.16      0.13       211\n",
            "\n",
            "     accuracy                           0.26      1728\n",
            "    macro avg       0.24      0.24      0.24      1728\n",
            " weighted avg       0.27      0.26      0.26      1728\n",
            "\n",
            "               precision    recall  f1-score   support\n",
            "\n",
            "Normal weight       0.35      0.35      0.35       995\n",
            "      Obesity       0.26      0.26      0.26       787\n",
            "   Overweight       0.31      0.26      0.28       826\n",
            "  Underweight       0.12      0.17      0.14       372\n",
            "\n",
            "     accuracy                           0.28      2980\n",
            "    macro avg       0.26      0.26      0.26      2980\n",
            " weighted avg       0.29      0.28      0.28      2980\n",
            "\n"
          ]
        }
      ]
    },
    {
      "cell_type": "markdown",
      "source": [
        "## Obesity Classification\n",
        "\n",
        "Due to the imbalance of the distribution of BMI category, we decided to re-label observations with a new indicator, i.e., obesity. A BMI value that is greater than or equal to 25 will be labeled as \"1\", meaning overweight or high risk obesity. A BMI value that is less than 25 will be labeled as \"0\", meaning normal in weight or underweight.  "
      ],
      "metadata": {
        "id": "FYvftxWvc8mx"
      }
    },
    {
      "cell_type": "code",
      "source": [
        "def obesity(bmi):\n",
        "  if bmi < 25:\n",
        "    return '0' # underweight and normal\n",
        "  else:\n",
        "    return '1' # obese/overwight, high risk\n",
        "\n",
        "df['obesity'] = df['BMI'].apply(obesity)"
      ],
      "metadata": {
        "id": "jjO7NySLdBPB"
      },
      "execution_count": 95,
      "outputs": []
    },
    {
      "cell_type": "code",
      "source": [
        "# Split the dataset by gender\n",
        "male_data = df[df['Gender'] == 1]\n",
        "female_data = df[df['Gender'] == 0]"
      ],
      "metadata": {
        "id": "HUs_nDCwiAkF"
      },
      "execution_count": 98,
      "outputs": []
    },
    {
      "cell_type": "code",
      "source": [
        "# Data preparation of obesity\n",
        "def obesity_data(data):\n",
        "  # split the data into features and label\n",
        "  X = data[['Age', 'Calorie_Intake', 'Sugar_Intake', 'Physical_Activity',\n",
        "        'Fast_Food_Frequency', 'Screen_Time']]\n",
        "  y = data['obesity']\n",
        "\n",
        "  # Split data into training and testing sets\n",
        "  X_train, X_test, y_train, y_test = train_test_split(X, y, test_size = 0.2,\n",
        "                                                    random_state=42)\n",
        "\n",
        "  # Apply SMOTE on the training data set only\n",
        "  smote = SMOTE(random_state = 42)\n",
        "  X_train_smt, y_train_smt = smote.fit_resample(X_train, y_train)\n",
        "\n",
        "  # Scale the features\n",
        "  scaler = StandardScaler()\n",
        "  X_train_scaled = scaler.fit_transform(X_train_smt)\n",
        "  X_test_scaled = scaler.transform(X_test)\n",
        "\n",
        "  return X_train_scaled, X_test_scaled, y_train_smt, y_test\n",
        "\n",
        "# Prepare data for males and females\n",
        "X_train_male, X_test_male, y_train_male, y_test_male = obesity_data(male_data)\n",
        "X_train_female, X_test_female, y_train_female, y_test_female = obesity_data(female_data)"
      ],
      "metadata": {
        "id": "BZ07aQ4BdaYS"
      },
      "execution_count": 100,
      "outputs": []
    },
    {
      "cell_type": "code",
      "source": [
        "# Initialize the KNN classifier\n",
        "knn = KNeighborsClassifier(n_neighbors=100)  # Setting K to 5 as an example\n",
        "\n",
        "# Hyperparameters to tune\n",
        "param_grid = {\n",
        "    'n_neighbors': [5, 10, 20, 30, 40, 50, 75, 100], # number of neighbors\n",
        "    'weights': ['uniform', 'distance'], # weight function used for prediction\n",
        "    'metric': ['euclidean', 'manhattan', 'minkowski'], # distance matric\n",
        "    'p': [1, 2] # Power parameter for the Minkowski metric. 1 is manhattan_distance and 2 is euclidean_distance.\n",
        "}\n",
        "\n",
        "# Use GridSearchCV to find the best hyperparameters\n",
        "knn_grid_search = GridSearchCV(estimator = knn,\n",
        "                               param_grid = param_grid,\n",
        "                               cv = 3, n_jobs = -1, verbose = 2,\n",
        "                               scoring = 'accuracy')\n",
        "\n",
        "# Train and predict the male data\n",
        "knn_grid_search.fit(X_train_male, y_train_male)\n",
        "print(\"Best Parameters: \", knn_grid_search.best_params_)\n",
        "y_pred_male = knn_grid_search.best_estimator_.predict(X_test_male)\n",
        "print(\"Classification Report for Males:\")\n",
        "print(classification_report(y_test_male, y_pred_male))\n",
        "\n",
        "# Train and predict the female data\n",
        "knn_grid_search.fit(X_train_female, y_train_female)\n",
        "print(\"Best Parameters: \", knn_grid_search.best_params_)\n",
        "y_pred_female = knn_grid_search.best_estimator_.predict(X_test_female)\n",
        "print(\"Classification Report for Females:\")\n",
        "print(classification_report(y_test_female, y_pred_female))\n"
      ],
      "metadata": {
        "colab": {
          "base_uri": "https://localhost:8080/"
        },
        "outputId": "6ad2eda5-b9b0-41c4-81d1-7271389f1467",
        "id": "nJCIujqIh6si"
      },
      "execution_count": 101,
      "outputs": [
        {
          "output_type": "stream",
          "name": "stdout",
          "text": [
            "Fitting 3 folds for each of 96 candidates, totalling 288 fits\n",
            "Best Parameters:  {'metric': 'manhattan', 'n_neighbors': 5, 'p': 1, 'weights': 'distance'}\n",
            "Classification Report for Males:\n",
            "              precision    recall  f1-score   support\n",
            "\n",
            "           0       0.46      0.49      0.47       787\n",
            "           1       0.55      0.52      0.53       941\n",
            "\n",
            "    accuracy                           0.50      1728\n",
            "   macro avg       0.50      0.50      0.50      1728\n",
            "weighted avg       0.51      0.50      0.51      1728\n",
            "\n",
            "Fitting 3 folds for each of 96 candidates, totalling 288 fits\n",
            "Best Parameters:  {'metric': 'manhattan', 'n_neighbors': 5, 'p': 1, 'weights': 'distance'}\n",
            "Classification Report for Males:\n",
            "              precision    recall  f1-score   support\n",
            "\n",
            "           0       0.44      0.48      0.46      1325\n",
            "           1       0.55      0.52      0.54      1655\n",
            "\n",
            "    accuracy                           0.50      2980\n",
            "   macro avg       0.50      0.50      0.50      2980\n",
            "weighted avg       0.51      0.50      0.50      2980\n",
            "\n"
          ]
        }
      ]
    },
    {
      "cell_type": "code",
      "source": [
        "# Initialize a Random Forest Classifier\n",
        "rf = RandomForestClassifier(random_state = 42)\n",
        "\n",
        "# Hyperparameters to tune\n",
        "param_grid = {\n",
        "    'n_estimators': [50, 100, 200], # number of trees\n",
        "    'max_depth': [None, 10, 20, 30], # maximum depth of the tree\n",
        "    'min_samples_split': [2, 5, 10], # minimum number of samples required to split an internal node\n",
        "    'min_samples_leaf': [1, 2, 4] # minimum number of samples required to be at a leaf node\n",
        "}\n",
        "\n",
        "# Use GridSearchCV to find the best hyperparameters\n",
        "grid_search = GridSearchCV(estimator = rf, param_grid = param_grid,\n",
        "                           cv = 3, n_jobs = -1, verbose = 2,\n",
        "                           scoring = 'accuracy')\n",
        "\n",
        "# Fit the model\n",
        "grid_search.fit(X_train_male, y_train_male) # for males\n",
        "print(\"Best Parameters for males: \", grid_search.best_params_)\n",
        "\n",
        "grid_search.fit(X_train_female, y_train_female) # for females\n",
        "print(\"Best Parameters for females: \", grid_search.best_params_)\n",
        "\n",
        "# Predict on the test data\n",
        "y_pred_males = grid_search.best_estimator_.predict(X_test_male)\n",
        "print(classification_report(y_test_male, y_pred_males))\n",
        "y_pred_females = grid_search.best_estimator_.predict(X_test_female)\n",
        "print(classification_report(y_test_female, y_pred_females))"
      ],
      "metadata": {
        "colab": {
          "base_uri": "https://localhost:8080/"
        },
        "outputId": "bf804798-c3a7-4966-a091-8f0261908114",
        "id": "14_F6yWdiirA"
      },
      "execution_count": 102,
      "outputs": [
        {
          "output_type": "stream",
          "name": "stdout",
          "text": [
            "Fitting 3 folds for each of 108 candidates, totalling 324 fits\n",
            "Best Parameters for males:  {'max_depth': 20, 'min_samples_leaf': 1, 'min_samples_split': 2, 'n_estimators': 200}\n",
            "Fitting 3 folds for each of 108 candidates, totalling 324 fits\n",
            "Best Parameters for females:  {'max_depth': 30, 'min_samples_leaf': 1, 'min_samples_split': 5, 'n_estimators': 100}\n",
            "              precision    recall  f1-score   support\n",
            "\n",
            "           0       0.46      0.48      0.47       787\n",
            "           1       0.55      0.52      0.54       941\n",
            "\n",
            "    accuracy                           0.50      1728\n",
            "   macro avg       0.50      0.50      0.50      1728\n",
            "weighted avg       0.51      0.50      0.51      1728\n",
            "\n",
            "              precision    recall  f1-score   support\n",
            "\n",
            "           0       0.44      0.44      0.44      1325\n",
            "           1       0.55      0.54      0.55      1655\n",
            "\n",
            "    accuracy                           0.50      2980\n",
            "   macro avg       0.49      0.49      0.49      2980\n",
            "weighted avg       0.50      0.50      0.50      2980\n",
            "\n"
          ]
        }
      ]
    }
  ]
}